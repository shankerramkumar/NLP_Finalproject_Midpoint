{
 "cells": [
  {
   "cell_type": "markdown",
   "metadata": {},
   "source": [
    "#    BUSN 42118 01,81 Course Project\n",
    "###  Business Applications of Natural Language Processing\n",
    "###  Submitted by Ramkumar Shanker\n",
    "\n",
    "References: \n",
    "\n",
    "\n",
    "\n",
    "Installations: \n",
    "`pip install nltk`  | \n",
    "`pip install stanfordcorenlp` |\n",
    "`pip install anytree` |\n",
    "`pip install graphviz` |\n",
    "`pip install plotly` |"
   ]
  },
  {
   "cell_type": "markdown",
   "metadata": {},
   "source": [
    "#### Importing pandas for data import, NLTK for tokenizing data, STANFORECORENLP for dependency parsing, <....>"
   ]
  },
  {
   "cell_type": "code",
   "execution_count": 1,
   "metadata": {},
   "outputs": [],
   "source": [
    "import pandas as pd\n",
    "import nltk\n",
    "import re\n",
    "import logging\n",
    "import stanfordcorenlp\n",
    "import networkx as nx\n",
    "import matplotlib.pyplot as plt\n",
    "import pandas\n",
    "import math\n",
    "import numpy as np\n",
    "import warnings\n",
    "\n",
    "warnings.filterwarnings('ignore')"
   ]
  },
  {
   "cell_type": "markdown",
   "metadata": {},
   "source": [
    "#### Although there are available sources that already provide parsed claims, in this project we will start from raw claims text (all numbered claims in 1 box, and the go on with tokenizing them)\n",
    "\n",
    "##### For first_cut, we'll use 10 patents belonging to the G06N CPC Classification\n",
    "\n",
    "#### Note: the unformatted raw claims text in column 7"
   ]
  },
  {
   "cell_type": "code",
   "execution_count": 2,
   "metadata": {},
   "outputs": [
    {
     "name": "stdout",
     "output_type": "stream",
     "text": [
      "  Section Id Subsection Id Group Id Subgroup Id  Patent Id  \\\n",
      "0          G           G06     G06N    G06N3/00    6529276   \n",
      "1          G           G06     G06N    G06N3/00    6675145   \n",
      "2          G           G06     G06N    G06N3/00    7272511   \n",
      "3          G           G06     G06N    G06N3/00    7447669   \n",
      "4          G           G06     G06N    G06N3/00    7536364   \n",
      "5          G           G06     G06N    G06N3/00    7672920   \n",
      "6          G           G06     G06N    G06N3/00    8204927   \n",
      "7          G           G06     G06N    G06N3/00    8712939   \n",
      "8          G           G06     G06N    G06N3/00    8762305   \n",
      "9          G           G06     G06N    G06N3/00    8838490   \n",
      "\n",
      "                                               Title  \\\n",
      "0                       OPTICAL COMPUTATIONAL SYSTEM   \n",
      "1  Method and system for integrated audiovisual s...   \n",
      "2  MOLECULAR MEMORY OBTAINED USINGDNASTRAND MOLEC...   \n",
      "3  Method and system for timetabling using pherom...   \n",
      "4  Method and system for performing model-based m...   \n",
      "5  Apparatus and method for embedding recurrent n...   \n",
      "6  System and method for cognitive processing for...   \n",
      "7  Tag-based apparatus and methods for neural net...   \n",
      "8  Method and system for dynamic task selection s...   \n",
      "9  Associate memory learning for analyzing financ...   \n",
      "\n",
      "                                              Claims  \n",
      "0  1. A neural network system, said system compri...  \n",
      "1  1. A method of transmitting a face image, comp...  \n",
      "2  1. A method for manufacturing a molecular memo...  \n",
      "3  1. A timetabling system based on an improved a...  \n",
      "4  1. A computerized method for performing multi-...  \n",
      "5  1. A learning system comprising:network storag...  \n",
      "6  1. A system for processing sensor data compris...  \n",
      "7  1. A computer realized method of implementing ...  \n",
      "8  1. A system for dynamic task selection (execut...  \n",
      "9  1. A method for analyzing transaction informat...  \n"
     ]
    }
   ],
   "source": [
    "first_cut = pd.read_excel('Patent_Firstdraft_2.xlsx')\n",
    "print(first_cut)"
   ]
  },
  {
   "cell_type": "markdown",
   "metadata": {},
   "source": [
    "#### For the first cut, we will be using just one of the patents (on a higher level note - a brief exploration through the data will provide information of the overall structure of the claims)"
   ]
  },
  {
   "cell_type": "code",
   "execution_count": 3,
   "metadata": {},
   "outputs": [
    {
     "name": "stdout",
     "output_type": "stream",
     "text": [
      "1. A neural network system, said system comprising:an array of processing elements, wherein each said element performs a respective predetermined operation on one or more input signals and outputs a resulting signal to one or more other said elements or to an output device; andan optical filterthat weights the intensity of a light signal from an illuminated sample by wavelength according to a regression vector, wherein said regression vector corresponds to the combination of a plurality of weighted orthogonal components of said light signal, wherein each said orthogonal component is weighted according to the amount of data it carries related to the presence of a predetermined physical characteristic in said sample and wherein said orthogonal components comprise a compression of data carried by said light signal, andthat outputs a signal corresponding to said weighted light signal to a said element.2. The system as in claim 1, including a plurality of said optical filters.3. The system as in claim 1, including a collimating lens disposed between said sample and said optical filter to collimate said light signal and direct said light signal to said optical filter.4. The system as in claim 3, including a bandpass filter disposed between said collimating lens and said optical filter, said bandpass filter passing a wavelength range of said light signal at least within an operative wavelength range of said optical filter.5. A neural network system, said system comprising:an array of processing elements, wherein each said element performs a respective predetermined operation on one or more input signals and outputs a resulting signal to one or more other said elements or to an output device; anda plurality of optical filters, wherein each said optical filterweights the intensity of a light signal from an illuminated sample by wavelength according to a regression vector, wherein said regression vector corresponds to the combination of a plurality of weighted orthogonal components of said light signal, wherein each said orthogonal component is weighted according to the amount of data it carries related to the presence of a predetermined physical characteristic in said sample and wherein said orthogonal components comprise a compression of data carried by the light signal, andoutputs a signal corresponding to said weighted light signal to a respective said element.\n"
     ]
    }
   ],
   "source": [
    "claims = first_cut[first_cut.columns[6]]\n",
    "print(claims[0])"
   ]
  },
  {
   "cell_type": "markdown",
   "metadata": {},
   "source": [
    "#### Patents follow an inherent structure in they way they are structure. \n",
    "######                - The fact that patent claims are always numbered can be used to tokenize claim text into separate claims\n",
    "######                - Dependent claims usually refer to previous independent claims using certain terminologies (“ as in claim #\")\n",
    "######                - In the next step, we will create a custom \"Claim Tokenizer\" using a basic regular expression that captures the numbered nature of claims\n",
    "\n",
    "#### For this claim, we will be using the Regular expression that captures any number (digit) followed by a full-stop\n",
    "\n",
    "##### Reference: https://www.nltk.org/_modules/nltk/tokenize/regexp.html"
   ]
  },
  {
   "cell_type": "code",
   "execution_count": 4,
   "metadata": {},
   "outputs": [
    {
     "name": "stdout",
     "output_type": "stream",
     "text": [
      "                                              Claims  Claim_ID\n",
      "0   A neural network system, said system comprisi...         1\n",
      "1   The system as in claim 1, including a plurali...         2\n",
      "2   The system as in claim 1, including a collima...         3\n",
      "3   The system as in claim 3, including a bandpas...         4\n",
      "4   A neural network system, said system comprisi...         5\n"
     ]
    }
   ],
   "source": [
    "# Use the NLTK package and insert custom regex to tokenize\n",
    "from nltk.tokenize import RegexpTokenizer\n",
    "s = claims[0]\n",
    "tokenizer = RegexpTokenizer('[0-9]\\.', gaps=True)\n",
    "patent1_tokenized_into_claims = tokenizer.tokenize(s)\n",
    "\n",
    "# Convert list of claims into a dataframe\n",
    "patent1_claims = pd.DataFrame({'Claims':patent1_tokenized_into_claims})\n",
    "patent1_claims['Claim_ID'] = patent1_claims.index + 1\n",
    "print(patent1_claims)"
   ]
  },
  {
   "cell_type": "markdown",
   "metadata": {},
   "source": [
    "#### In the next step, we will separately identify dependent claims from their independent claims\n",
    "\n",
    "#### For this, we will be using the Regular expression that captures any occurrence of the word \"claim\" followed by a whitespace followed by a number.\n",
    "\n",
    "#### Note: In certain patents, the claims numbers are merely digits while in other patents the dependent claims refer back to the independent claims using some form of brackets, and refer back to multiple claims For example, \"as in claim (1)\", \"as in claims 1-4\"\n",
    "\n",
    "#### For the first cut however, we'll proceed with just the \"claim 1\" format"
   ]
  },
  {
   "cell_type": "code",
   "execution_count": 5,
   "metadata": {},
   "outputs": [
    {
     "name": "stdout",
     "output_type": "stream",
     "text": [
      "                                              Claims  Claim_ID  \\\n",
      "0   A neural network system, said system comprisi...         1   \n",
      "1   The system as in claim 1, including a plurali...         2   \n",
      "2   The system as in claim 1, including a collima...         3   \n",
      "3   The system as in claim 3, including a bandpas...         4   \n",
      "4   A neural network system, said system comprisi...         5   \n",
      "\n",
      "  Parent_claim_desc Parent_claim_num  Claim_node Parent_node  \n",
      "0               NaN                0           1           1  \n",
      "1           claim 1                1           2           1  \n",
      "2           claim 1                1           3           1  \n",
      "3           claim 3                3           4           3  \n",
      "4               NaN                0           5           5  \n"
     ]
    }
   ],
   "source": [
    "# Using the regex to get claim number\n",
    "patent1_claims['Parent_claim_desc'] = patent1_claims['Claims'].str.extract('(claim \\d\\d*)', expand=True)\n",
    "\n",
    "# Getting the numerical value of the claim number\n",
    "patent1_claims['Parent_claim_num'] = patent1_claims['Parent_claim_desc'].str.extract('(\\d\\d*)', expand=True)\n",
    "\n",
    "# Defining Claim node \n",
    "patent1_claims['Claim_node'] = patent1_claims['Claim_ID']\n",
    "\n",
    "# Defining Parent node (If independent claim, Parent node = claim node)\n",
    "patent1_claims['Parent_claim_num']=patent1_claims['Parent_claim_num'].fillna(0)\n",
    "\n",
    "# Converted string mined using regex to a numerical value\n",
    "for i in range(len(patent1_claims['Parent_claim_num'])):\n",
    "    patent1_claims['Parent_claim_num'][i] = int(patent1_claims['Parent_claim_num'][i])\n",
    "patent1_claims.loc[ patent1_claims.Parent_claim_num == 0, 'Parent_node' ] = patent1_claims.Claim_node\n",
    "patent1_claims.loc[ patent1_claims.Parent_claim_num != 0, 'Parent_node' ] = patent1_claims.Parent_claim_num\n",
    "\n",
    "print(patent1_claims) "
   ]
  },
  {
   "cell_type": "markdown",
   "metadata": {},
   "source": [
    "##### In this step, we can create the patent claims structure tree based on Claim node and Parent node"
   ]
  },
  {
   "cell_type": "code",
   "execution_count": null,
   "metadata": {},
   "outputs": [
    {
     "data": {
      "image/png": "[encoded data removed]",
      "text/plain": [
       "<matplotlib.figure.Figure at 0x1dfef8ed748>"
      ]
     },
     "metadata": {},
     "output_type": "display_data"
    }
   ],
   "source": [
    "#Build the graph\n",
    "G=nx.DiGraph()   \n",
    "G.add_nodes_from(patent1_claims.Parent_node)\n",
    "G.nodes()\n",
    "G.add_node('None')\n",
    "\n",
    "#Add edges\n",
    "subset = patent1_claims[['Parent_node','Claim_node']]\n",
    "tuples = [tuple(x) for x in subset.values] \n",
    "G.add_edges_from(tuples)\n",
    "G.number_of_edges()\n",
    "\n",
    "#Perform Graph Drawing\n",
    "#A star network  (sort of)\n",
    "nx.draw_networkx(G)\n",
    "plt.show()\n",
    "t = input()\n",
    "#A tree network (sort of)\n",
    "nx.draw_graphviz(G, prog = 'dot', splines=ortho)\n",
    "plt.show()"
   ]
  },
  {
   "cell_type": "code",
   "execution_count": 16,
   "metadata": {},
   "outputs": [
    {
     "name": "stderr",
     "output_type": "stream",
     "text": [
      "INFO:root:Initializing native server...\n",
      "INFO:root:java -Xmx4g -cp \"C:\\Users\\sharm\\OneDrive\\Pictures\\Rams_folder\\Professional\\uchicago\\nlp\\Final_Project\\stanford-corenlp-full-2018-02-27\\*\" edu.stanford.nlp.pipeline.StanfordCoreNLPServer -port 9002\n",
      "INFO:root:Server shell PID: 8216\n",
      "INFO:root:The server is available.\n",
      "INFO:root:{'properties': \"{'annotators': 'pos', 'outputFormat': 'json'}\", 'pipelineLanguage': 'en'}\n",
      "DEBUG:urllib3.connectionpool:Starting new HTTP connection (1): localhost\n",
      "DEBUG:urllib3.connectionpool:http://localhost:9002 \"POST /?properties=%7B%27annotators%27%3A+%27pos%27%2C+%27outputFormat%27%3A+%27json%27%7D&pipelineLanguage=en HTTP/1.1\" 200 2046\n",
      "INFO:root:{'properties': \"{'annotators': 'pos,parse', 'outputFormat': 'json'}\", 'pipelineLanguage': 'en'}\n",
      "DEBUG:urllib3.connectionpool:Starting new HTTP connection (1): localhost\n"
     ]
    },
    {
     "name": "stdout",
     "output_type": "stream",
     "text": [
      "Part of Speech: [('The', 'DT'), ('system', 'NN'), ('as', 'IN'), ('in', 'IN'), ('claim', 'NN'), ('1', 'CD'), (',', ','), ('including', 'VBG'), ('a', 'DT'), ('plurality', 'NN'), ('of', 'IN'), ('said', 'VBD'), ('optical', 'JJ'), ('filters', 'NNS'), ('.', '.')]\n"
     ]
    },
    {
     "name": "stderr",
     "output_type": "stream",
     "text": [
      "DEBUG:urllib3.connectionpool:http://localhost:9002 \"POST /?properties=%7B%27annotators%27%3A+%27pos%2Cparse%27%2C+%27outputFormat%27%3A+%27json%27%7D&pipelineLanguage=en HTTP/1.1\" 200 6692\n",
      "INFO:root:{'properties': \"{'annotators': 'depparse', 'outputFormat': 'json'}\", 'pipelineLanguage': 'en'}\n",
      "DEBUG:urllib3.connectionpool:Starting new HTTP connection (1): localhost\n"
     ]
    },
    {
     "name": "stdout",
     "output_type": "stream",
     "text": [
      "Constituency Parsing: (ROOT\r\n",
      "  (S\r\n",
      "    (NP\r\n",
      "      (NP (DT The) (NN system))\r\n",
      "      (PP (IN as)\r\n",
      "        (PP (IN in)\r\n",
      "          (NP\r\n",
      "            (NP (NN claim) (CD 1))\r\n",
      "            (, ,)\r\n",
      "            (PP (VBG including)\r\n",
      "              (NP\r\n",
      "                (NP (DT a) (NN plurality))\r\n",
      "                (PP (IN of))))))))\r\n",
      "    (VP (VBD said)\r\n",
      "      (NP (JJ optical) (NNS filters)))\r\n",
      "    (. .)))\n"
     ]
    },
    {
     "name": "stderr",
     "output_type": "stream",
     "text": [
      "DEBUG:urllib3.connectionpool:http://localhost:9002 \"POST /?properties=%7B%27annotators%27%3A+%27depparse%27%2C+%27outputFormat%27%3A+%27json%27%7D&pipelineLanguage=en HTTP/1.1\" 200 6307\n",
      "INFO:root:Cleanup...\n",
      "INFO:root:Killing pid: 13784, cmdline: ['java', '-Xmx4g', '-cp', 'C:\\\\Users\\\\sharm\\\\OneDrive\\\\Pictures\\\\Rams_folder\\\\Professional\\\\uchicago\\\\nlp\\\\Final_Project\\\\stanford-corenlp-full-2018-02-27\\\\*', 'edu.stanford.nlp.pipeline.StanfordCoreNLPServer', '-port', '9002']\n",
      "INFO:root:Killing shell pid: 8216, cmdline: ['C:\\\\WINDOWS\\\\system32\\\\cmd.exe', '/c', 'java -Xmx4g -cp C:\\\\Users\\\\sharm\\\\OneDrive\\\\Pictures\\\\Rams_folder\\\\Professional\\\\uchicago\\\\nlp\\\\Final_Project\\\\stanford-corenlp-full-2018-02-27\\\\* edu.stanford.nlp.pipeline.StanfordCoreNLPServer -port 9002']\n"
     ]
    },
    {
     "name": "stdout",
     "output_type": "stream",
     "text": [
      "Dependency Parsing: [('ROOT', 0, 2), ('det', 2, 1), ('case', 5, 3), ('case', 5, 4), ('nmod', 2, 5), ('nummod', 5, 6), ('punct', 5, 7), ('case', 10, 8), ('det', 10, 9), ('nmod', 5, 10), ('case', 14, 11), ('dep', 14, 12), ('amod', 14, 13), ('nmod', 10, 14), ('punct', 2, 15)]\n"
     ]
    }
   ],
   "source": [
    "from stanfordcorenlp import StanfordCoreNLP\n",
    "\n",
    "nlp = StanfordCoreNLP(r'C:\\Users\\sharm\\OneDrive\\Pictures\\Rams_folder\\Professional\\uchicago\\nlp\\Final_Project\\stanford-corenlp-full-2018-02-27')\n",
    "\n",
    "sentence = patent1_claims.iloc[1, 0]\n",
    "print ('Part of Speech:', nlp.pos_tag(sentence))\n",
    "print ('Constituency Parsing:', nlp.parse(sentence))\n",
    "print ('Dependency Parsing:', nlp.dependency_parse(sentence))\n",
    "\n",
    "nlp.close() "
   ]
  }
 ],
 "metadata": {
  "kernelspec": {
   "display_name": "Python 3",
   "language": "python",
   "name": "python3"
  },
  "language_info": {
   "codemirror_mode": {
    "name": "ipython",
    "version": 3
   },
   "file_extension": ".py",
   "mimetype": "text/x-python",
   "name": "python",
   "nbconvert_exporter": "python",
   "pygments_lexer": "ipython3",
   "version": "3.6.4"
  }
 },
 "nbformat": 4,
 "nbformat_minor": 2
}
